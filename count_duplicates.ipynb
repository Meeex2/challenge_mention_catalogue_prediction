{
 "cells": [
  {
   "cell_type": "code",
   "execution_count": 1,
   "metadata": {},
   "outputs": [],
   "source": [
    "import imagehash\n",
    "from PIL import Image\n",
    "import os\n",
    "from collections import defaultdict "
   ]
  },
  {
   "cell_type": "code",
   "execution_count": 2,
   "metadata": {},
   "outputs": [],
   "source": [
    "def hash_image(file):\n",
    "    img = Image.open(file)\n",
    "    return imagehash.phash(img)"
   ]
  },
  {
   "cell_type": "code",
   "execution_count": 3,
   "metadata": {},
   "outputs": [
    {
     "name": "stdout",
     "output_type": "stream",
     "text": [
      "0\n"
     ]
    }
   ],
   "source": [
    "image_dir = \"./data/DAM/\"\n",
    "counter = defaultdict(list)\n",
    "for img_name in os.listdir(image_dir):\n",
    "    image_path = os.path.join(image_dir, img_name)\n",
    "    counter[hash_image(image_path)].append(image_path)\n",
    "count = 0\n",
    "for x,y in counter.items():\n",
    "    if len(y) > 1:\n",
    "        count += len(y) - 1 \n",
    "        print(\"Duplicata : \")\n",
    "        for path in y:\n",
    "            print(path)\n",
    "print(count)"
   ]
  }
 ],
 "metadata": {
  "kernelspec": {
   "display_name": "challenge_mention",
   "language": "python",
   "name": "python3"
  },
  "language_info": {
   "codemirror_mode": {
    "name": "ipython",
    "version": 3
   },
   "file_extension": ".py",
   "mimetype": "text/x-python",
   "name": "python",
   "nbconvert_exporter": "python",
   "pygments_lexer": "ipython3",
   "version": "3.12.8"
  }
 },
 "nbformat": 4,
 "nbformat_minor": 2
}
